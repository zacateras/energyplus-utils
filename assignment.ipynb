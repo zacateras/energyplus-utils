{
 "cells": [
  {
   "cell_type": "code",
   "execution_count": 1,
   "metadata": {},
   "outputs": [],
   "source": [
    "import pandas as pd\n",
    "import matplotlib.pyplot as plt\n",
    "import numpy as np\n",
    "\n",
    "import time"
   ]
  },
  {
   "cell_type": "code",
   "execution_count": 3,
   "metadata": {},
   "outputs": [],
   "source": [
    "class IDFParameter:\n",
    "    def __init__(self, name, values):\n",
    "        self.name = name\n",
    "        self.values = values\n",
    "\n",
    "def write_parameter(f_output, param: IDFParameter):\n",
    "    f_output.write('Parametric:SetValueForRun,\\n')\n",
    "    f_output.write('$%s,                      !- Name\\n' % param.name)\n",
    "    \n",
    "    for i in range(0, len(param.values)):\n",
    "        f_output.write('%s,                       !- Value for Run %s\\n' % (i, param.values[i]))\n",
    "        \n",
    "    f_output.write('\\n')\n",
    "\n",
    "def write_parameter_section(f_output, params):\n",
    "    f_output.write('!-   ===========  ALL OBJECTS IN CLASS: PARAMETRIC:SETVALUEFORRUN ===========\\n')\n",
    "    f_output.write('\\n')\n",
    "    \n",
    "    for param in params:\n",
    "        write_parameter(f_output, param)\n",
    "        \n",
    "params = list()\n",
    "params.append(IDFParameter('T', [1, 2, 3]))\n",
    "params.append(IDFParameter('U', [12, 4, 14]))\n",
    "\n",
    "f_input = open('data/concept_399223.idf', 'r')\n",
    "f_output = open('tmp/concept_399223.tmp.idf', 'w')\n",
    "\n",
    "for line in f_input:\n",
    "    if 'PARAMETRIC:SETVALUEFORRUN' in line:\n",
    "        write_parameter_section(f_output, params)\n",
    "        \n",
    "        # skip input file parameter section (until the beginning of the next section)\n",
    "        while(True):\n",
    "            line = next(f_input)\n",
    "            if('!-   ===========' in line):\n",
    "                break\n",
    "        \n",
    "    f_output.write(line)\n",
    "\n",
    "f_input.close()\n",
    "f_output.close()"
   ]
  },
  {
   "cell_type": "code",
   "execution_count": null,
   "metadata": {},
   "outputs": [],
   "source": []
  }
 ],
 "metadata": {
  "kernelspec": {
   "display_name": "Python 3",
   "language": "python",
   "name": "python3"
  },
  "language_info": {
   "codemirror_mode": {
    "name": "ipython",
    "version": 3
   },
   "file_extension": ".py",
   "mimetype": "text/x-python",
   "name": "python",
   "nbconvert_exporter": "python",
   "pygments_lexer": "ipython3",
   "version": "3.6.4"
  }
 },
 "nbformat": 4,
 "nbformat_minor": 2
}
